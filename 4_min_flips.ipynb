{
 "cells": [
  {
   "cell_type": "markdown",
   "id": "e2f4fd1d-05ae-4428-be1b-c72b1ff1684a",
   "metadata": {},
   "source": [
    "# Finding the minimum number of flips\n",
    "\n",
    "For every possible initial order of pancakes, we need to know the minimum number of flips needed to sort the stack. We'll now write a function to do so. Our goal in this first pass is to get something that works. We'll optimize later."
   ]
  },
  {
   "cell_type": "markdown",
   "id": "9304fdd9-66b8-418f-9dd3-f853f8819ffe",
   "metadata": {},
   "source": [
    "## Setup"
   ]
  },
  {
   "cell_type": "markdown",
   "id": "bd495ef3-21d6-469e-acbb-c34e13d94c1e",
   "metadata": {},
   "source": [
    "We'll first grab the helper functions we've already created. If you came up with a different version of `is_sorted` or `flip`, feel free to use yours."
   ]
  },
  {
   "cell_type": "code",
   "execution_count": null,
   "id": "daf4b62b-db4b-4cb8-863a-621505a7dfd9",
   "metadata": {},
   "outputs": [],
   "source": [
    "def is_sorted(pancakes, goal):\n",
    "    return pancakes == goal\n",
    "\n",
    "def flip(pancakes, flip_point):\n",
    "    return pancakes[:flip_point][::-1] + pancakes[flip_point:]\n",
    "\n",
    "def get_next_states(pancakes):\n",
    "    for flip_point in range(2, len(pancakes) + 1):\n",
    "        yield flip(pancakes, flip_point)"
   ]
  },
  {
   "cell_type": "markdown",
   "id": "b6928752-19d1-4bdb-b435-467e655b8890",
   "metadata": {},
   "source": [
    "We'll need to make use of each of these functions. Let's also define a goal state:"
   ]
  },
  {
   "cell_type": "code",
   "execution_count": null,
   "id": "d895616d-a378-4dea-9a03-ab988bbfcbc6",
   "metadata": {},
   "outputs": [],
   "source": [
    "starting_stack = goal = (1, 2, 3, 4)"
   ]
  },
  {
   "cell_type": "markdown",
   "id": "6a6a95df-f2e4-48e9-b921-e4209e0e31e3",
   "metadata": {},
   "source": [
    "And let's also scaffold our new function."
   ]
  },
  {
   "cell_type": "code",
   "execution_count": null,
   "id": "a5fdc864-0e91-4681-8c50-dd3c1eed2711",
   "metadata": {},
   "outputs": [],
   "source": [
    "def find_min_flips(pancakes, goal):\n",
    "    pass"
   ]
  },
  {
   "cell_type": "markdown",
   "id": "cdd77eeb-0e0a-4f17-aef8-14bebc19e040",
   "metadata": {},
   "source": [
    "A nice, easy start. We've blocked out a function called `find_min_flips`. It takes two arguments: \n",
    "  - `pancakes`, which will be a tuple representing a starting order\n",
    "  - `goal`, which will also be a tuple representing the properly sorted order\n",
    "\n",
    "We haven't implemented the logic yet, but we know what we want the function to return: an integer, the minimum flips required to sort `pancakes`."
   ]
  },
  {
   "cell_type": "markdown",
   "id": "4ff04739-8742-4bf2-9fb6-d8cf4463d437",
   "metadata": {},
   "source": [
    "## Base Case\n",
    "\n",
    "A quick win would be nice. Imagine that `pancakes` is already sorted. What would the function look like? Maybe something like this:"
   ]
  },
  {
   "cell_type": "code",
   "execution_count": null,
   "id": "a78b278d-8a0e-4724-887a-9de8700afdc2",
   "metadata": {},
   "outputs": [],
   "source": [
    "def find_min_flips(pancakes, goal):\n",
    "    if is_sorted(pancakes, goal):\n",
    "        return 0"
   ]
  },
  {
   "cell_type": "markdown",
   "id": "a023f2c7-e465-4d0a-bbd4-d4b75c963c91",
   "metadata": {},
   "source": [
    "When we're finished, `find_min_flips` will get called once per permutation, and only one of those permutations will be the sorted order. But in that one case, this function would work..."
   ]
  },
  {
   "cell_type": "code",
   "execution_count": null,
   "id": "c11b5693-863f-4566-9ddd-91ebe838a17f",
   "metadata": {},
   "outputs": [],
   "source": [
    "find_min_flips(starting_stack, goal)"
   ]
  },
  {
   "cell_type": "markdown",
   "id": "99193bd6-f053-4192-995b-fc41d9ea49f9",
   "metadata": {},
   "source": [
    "But it's no good in all the other cases..."
   ]
  },
  {
   "cell_type": "code",
   "execution_count": null,
   "id": "5c9217a8-61e1-40cb-ab11-5c70ad051c7b",
   "metadata": {},
   "outputs": [],
   "source": [
    "find_min_flips((2, 1, 3, 4), goal)"
   ]
  },
  {
   "cell_type": "markdown",
   "id": "9d6b359c-2f24-4909-b2df-cd15fcfed800",
   "metadata": {},
   "source": [
    "Since an unsorted stack won't trigger the `if` condition in our function, we never execute the return statement. The function completes without encountering a return statement, so it returns `None`. That's why you don't see anything printed when running the code block, above."
   ]
  },
  {
   "cell_type": "markdown",
   "id": "f49339ef-3c37-4773-9570-0efaea1d2f13",
   "metadata": {},
   "source": [
    "Obviously, we still have work to do."
   ]
  },
  {
   "cell_type": "markdown",
   "id": "caff9409-6154-4663-9082-66e8d6053f65",
   "metadata": {},
   "source": [
    "## Basic Strategy\n",
    "\n",
    "Let's try to map out how this function will get us an answer in all the other (unsorted) cases. If we knew how to find the most efficient flip, our job would be easier (or at least less computationally expensive). But we don't. \n",
    "\n",
    "Do we then have to try **every** possible flip? You might think so. After all, we've said again and again that we need to do an *exhaustive* search. But we can do better."
   ]
  },
  {
   "cell_type": "markdown",
   "id": "a72af928-a0bf-488c-8ad3-eb60059cf68b",
   "metadata": {},
   "source": [
    "We know (thanks to Bill Gates and others) how to calculate an upper bound for a pancake number. If we're exploring a sequence of flips that grows larger than that upper bound, we can stop. That sequence isn't optimal, so it doesn't interest us. \n",
    "\n",
    "But for even fairly small pancake stacks, there are still *a lot* of sequences that are shorter than that upper bound. And in many cases, some fraction of those sequences are both:\n",
    "  - shorter than the upper bound\n",
    "  - longer than the optimal sequence\n",
    "\n",
    "Since they won't get us closer to an answer, it'd be nice to leave those sequences out of our search."
   ]
  },
  {
   "cell_type": "markdown",
   "id": "eb0ad409-7a0f-4f99-9179-1a5d58e368b4",
   "metadata": {},
   "source": [
    "Maybe now is when we have our Eureka! moment: let's look first at the shortest possible sequences. If we can't get to our goal with the shortest possible sequence, we'll next try the second-shortest possible sequences. And then the third-shortest, and the fourth-shortest, and so on until we (finally) find a sequence that results in a sorted stack.\n",
    "\n",
    "Sound good?"
   ]
  },
  {
   "cell_type": "markdown",
   "id": "1d507014-c310-4651-8bbf-36557b5bf452",
   "metadata": {},
   "source": [
    "## Searching the Next Shortest Sequences\n",
    "\n",
    "In retrospect, we can see that our base case \"solution\" was already starting down this path. The absolute shortest sequence of flips is *no* flips. In the very rare case that our starting order can be reached in zero flips, we're set. \n",
    "\n",
    "What would it look like to extend our function to consider not just zero flips, but one flip? Remember that we already wrote a function that can get all the possible states that are one flip away from a given order. "
   ]
  },
  {
   "cell_type": "code",
   "execution_count": null,
   "id": "2ea8fe3e-5d15-4b1d-99d7-aeefee8088fb",
   "metadata": {},
   "outputs": [],
   "source": [
    "def find_min_flips(pancakes, goal):\n",
    "    if is_sorted(pancakes, goal):\n",
    "        return 0\n",
    "\n",
    "    for after_one_flip in get_next_states(pancakes):\n",
    "        if is_sorted(after_one_flip, goal):\n",
    "            return 1"
   ]
  },
  {
   "cell_type": "markdown",
   "id": "8f6f6095-717d-4c13-a10b-d93a3dca0f8d",
   "metadata": {},
   "source": [
    "`get_next_states` will generate for us all the orders that are possible with just one more flip. Using a `for` loop, we can look at them one at a time and test them using `is_sorted`. As soon as we find one that passes the `is_sorted` test, we can return an answer. There's no point in looking further. We already knew we couldn't get to our goal state in 0 flips and we just discovered a way to get to our goal state in 1 flip. Besides 0 (which we know isn't possible), there's nothing \"more minimal\" than 1."
   ]
  },
  {
   "cell_type": "markdown",
   "id": "136170fa-0349-400a-9b1b-b44d7eb298c4",
   "metadata": {},
   "source": [
    "Our extended function can now get us an answer in more cases. It still works for our base case (where the stack under consideration is already sorted):"
   ]
  },
  {
   "cell_type": "code",
   "execution_count": null,
   "id": "be8a577f-c4b2-4b10-b4bc-d03e4f2ec941",
   "metadata": {},
   "outputs": [],
   "source": [
    "find_min_flips(starting_stack, goal)"
   ]
  },
  {
   "cell_type": "markdown",
   "id": "787a79f7-e617-485e-912e-9a53e057612f",
   "metadata": {},
   "source": [
    "But now it also can get us an answer for an *almost* sorted stack:"
   ]
  },
  {
   "cell_type": "code",
   "execution_count": null,
   "id": "74806ae5-a526-4321-ae08-0c82797ea066",
   "metadata": {},
   "outputs": [],
   "source": [
    "find_min_flips((2, 1, 3, 4), goal)"
   ]
  },
  {
   "cell_type": "code",
   "execution_count": null,
   "id": "c342e52c-12af-4a72-9eb3-251bcdc3d247",
   "metadata": {},
   "outputs": [],
   "source": [
    "find_min_flips((4, 3, 2, 1), goal)"
   ]
  },
  {
   "cell_type": "markdown",
   "id": "53a5abf1-c4ff-4cbb-b136-0acc60e9f668",
   "metadata": {},
   "source": [
    "But it's still no help for starting orders that are farther from the goal:"
   ]
  },
  {
   "cell_type": "code",
   "execution_count": null,
   "id": "d7fa9826-91db-46d7-ac81-0ce574182d91",
   "metadata": {},
   "outputs": [],
   "source": [
    "find_min_flips((3, 4, 2, 1), goal)"
   ]
  },
  {
   "cell_type": "markdown",
   "id": "2fc16529-ecb0-43c4-9c39-6231bbbbce76",
   "metadata": {},
   "source": [
    "## Searching the Next-Next Shortest Sequences??\n",
    "\n",
    "Maybe we can just keep adding \"next-sequences\" loops to our function. It'd look something like this:"
   ]
  },
  {
   "cell_type": "code",
   "execution_count": null,
   "id": "82de5dbc-6a34-4696-b985-eb61d5d128b8",
   "metadata": {},
   "outputs": [],
   "source": [
    "def find_min_flips(pancakes, goal):\n",
    "    if is_sorted(pancakes, goal):\n",
    "        return 0\n",
    "    \n",
    "    for after_one_flip in get_next_states(pancakes):\n",
    "        if is_sorted(after_one_flip, goal):\n",
    "            return 1\n",
    "\n",
    "    for after_one_flip in get_next_states(pancakes):\n",
    "        for after_two_flips in get_next_states(after_one_flip):\n",
    "            if is_sorted(after_two_flips, goal):\n",
    "                return 2"
   ]
  },
  {
   "cell_type": "code",
   "execution_count": null,
   "id": "87fafa3e-0cbe-440e-bf35-4c52ea74855a",
   "metadata": {},
   "outputs": [],
   "source": [
    "find_min_flips((3, 4, 2, 1), goal)"
   ]
  },
  {
   "cell_type": "markdown",
   "id": "79d492f4-6c64-45e0-9879-2c17fce246de",
   "metadata": {},
   "source": [
    "And to actually get to the first sorta intresting pancake number (for a stack with three pancakes), we'd need *another* next-sequence loop:"
   ]
  },
  {
   "cell_type": "code",
   "execution_count": null,
   "id": "3767d277-8d54-41f5-a30f-a65857fbc3b7",
   "metadata": {},
   "outputs": [],
   "source": [
    "def find_min_flips(pancakes, goal):\n",
    "    if is_sorted(pancakes, goal):\n",
    "        return 0\n",
    "\n",
    "    for after_one_flip in get_next_states(pancakes):\n",
    "        if is_sorted(after_one_flip, goal):\n",
    "            return 1\n",
    "\n",
    "    for after_one_flip in get_next_states(pancakes):\n",
    "        for after_two_flips in get_next_states(after_one_flip):\n",
    "            if is_sorted(after_two_flips, goal):\n",
    "                return 2\n",
    "\n",
    "    for after_one_flip in get_next_states(pancakes):\n",
    "        for after_two_flips in get_next_states(after_one_flip):\n",
    "            for after_three_flips in get_next_states(after_two_flips):\n",
    "                if is_sorted(after_three_flips, goal):\n",
    "                    return 3"
   ]
  },
  {
   "cell_type": "code",
   "execution_count": null,
   "id": "fdb9f25b-c480-4434-90cd-3c4af95ff28d",
   "metadata": {},
   "outputs": [],
   "source": [
    "find_min_flips((1, 3, 2), (1, 2, 3))"
   ]
  },
  {
   "cell_type": "markdown",
   "id": "6d84170a-642c-4c84-bbcf-6fe11f7ec92a",
   "metadata": {},
   "source": [
    "But that's gross, grossly inefficient, and it just won't scale. We need to find some way to **generalize**."
   ]
  },
  {
   "cell_type": "markdown",
   "id": "1334f020-0f54-470b-89b1-19c042657767",
   "metadata": {},
   "source": [
    "## Queue it up\n",
    "\n",
    "Here's a redescription of what that gross code is doing:\n",
    " 1. We start by testing the single 0-flip order. If it isn't sorted...\n",
    " 2. We next build a list of all the 1-flip orders and test them one by one. If we find one that is sorted, we're done. If not...\n",
    " 3. We then build a list of all the 2-flip orders and test them one by one. If we find one that is sorted, we're done. If not...\n",
    " 4. We build a list of all the 3-flip orders and test them one by one. If we find one that is sorted, we're done. If not...\n",
    " 5. ...\n",
    "\n",
    "See a pattern? "
   ]
  },
  {
   "cell_type": "markdown",
   "id": "013c748f-079d-47db-8730-a5405c90a4f3",
   "metadata": {},
   "source": [
    "But in our earlier solution, to build the 2-flip list, we had to re-build the 1-flip list. And to build the 3-flip list, we had to re-re-build the 1-flip list and re-build the 2-flip list. That's a lot of wasted work. "
   ]
  },
  {
   "cell_type": "markdown",
   "id": "8ff3bd38-4901-4ea5-a06c-00f19a16bbd3",
   "metadata": {},
   "source": [
    "We can do better using a data structure called a ***queue***. A queue is just a list. Items join the back of the queue and \"wait\" until they get to the front of the queue (and *no cuts*!). You *could* reverse it, but typically, you'd treat the zero-index item as the \"front\" of the list and the -1-index as the \"back\" of the list:\n",
    "\n",
    "```\n",
    "<front> [item_one, item_two, ... item_last] <back>\n",
    "```\n",
    "\n",
    "We add items to the back of the list with `append(<new_item>)` and grab items off the front of the list with `pop(0)`. Here's an example:"
   ]
  },
  {
   "cell_type": "code",
   "execution_count": null,
   "id": "80e08648-be1d-476f-b970-6d0503cc3720",
   "metadata": {},
   "outputs": [],
   "source": [
    "letters = ['a', 'b', 'c', 'd']\n",
    "\n",
    "# add a letter to the back of the queue\n",
    "letters.append('e')\n",
    "letters"
   ]
  },
  {
   "cell_type": "code",
   "execution_count": null,
   "id": "a1c95f2a-622b-4562-a138-0301651f7bdd",
   "metadata": {},
   "outputs": [],
   "source": [
    "# pop off the letter at the front of the queue\n",
    "front = letters.pop(0)\n",
    "front"
   ]
  },
  {
   "cell_type": "code",
   "execution_count": null,
   "id": "7550a634-7885-4255-94a9-2e47d15467b9",
   "metadata": {},
   "outputs": [],
   "source": [
    "letters"
   ]
  },
  {
   "cell_type": "markdown",
   "id": "9a37a793-a08c-4bb9-8696-851b31a25509",
   "metadata": {},
   "source": [
    "Here's how a queue can clean up our code:"
   ]
  },
  {
   "cell_type": "code",
   "execution_count": null,
   "id": "a9807a51-6533-4d52-bf97-58cf7b5231f9",
   "metadata": {},
   "outputs": [],
   "source": [
    "def find_min_flips(pancakes, goal):\n",
    "    queue = [(pancakes, 0)] # seed the queue with the starting order; each queue item is a tuple: (pancake_stack, num_of_flips)\n",
    "\n",
    "    while queue: # keep looping as long as the queue has at least one item\n",
    "        current_pancakes, current_flips = queue.pop(0) # pop off the item at the front of the queue\n",
    "\n",
    "        if is_sorted(current_pancakes, goal): # test: is the item at the front of the list sorted?\n",
    "            return current_flips # if so, return the number of flips needed to reach that state\n",
    "\n",
    "        for next_state in get_next_states(current_pancakes): # generate all the states that are exactly one flip away from the current\n",
    "            queue.append((next_state, current_flips + 1)) # enqueue each next state, incrementing the flip count by one\n",
    "\n",
    "    return None # We should never get here! Before the queue is empty, we should have found a sequence that leads to a sorted stack"
   ]
  },
  {
   "cell_type": "markdown",
   "id": "eb7a5d21-451d-4b23-87c1-8d7570aa1c01",
   "metadata": {},
   "source": [
    "The queue will keep going, but all the 1-flip orders will be closer to the front of the queue than all the 2-flip orders, which will be closer to the front of the queue than all the 3-flip orders, and so on. It's likely that we'll have some -- and maybe many -- untested states left in the queue. That's okay. The first sequence we find is guaranteed to be the shortest possible sequence, not because we know any nifty tricks, but just because we systematically searched through the possibilities in the right order."
   ]
  },
  {
   "cell_type": "markdown",
   "id": "f020f817-9c39-4a60-b4ed-b2d4b250f39c",
   "metadata": {},
   "source": [
    "Let's put our new function to the test:"
   ]
  },
  {
   "cell_type": "code",
   "execution_count": null,
   "id": "31c54076-f111-4936-a63c-077a978531c4",
   "metadata": {},
   "outputs": [],
   "source": [
    "assert(find_min_flips((1, 2, 3, 4), goal) == 0)"
   ]
  },
  {
   "cell_type": "code",
   "execution_count": null,
   "id": "77c74d6f-f9c3-498f-991c-2a57063040a0",
   "metadata": {},
   "outputs": [],
   "source": [
    "assert(find_min_flips((3, 2, 1, 4), goal) == 1)"
   ]
  },
  {
   "cell_type": "code",
   "execution_count": null,
   "id": "ee13c1b2-6343-496f-b784-a813c882039e",
   "metadata": {},
   "outputs": [],
   "source": [
    "assert(find_min_flips((2, 3, 1, 4), goal) == 2)"
   ]
  },
  {
   "cell_type": "code",
   "execution_count": null,
   "id": "ee9303da-a60d-444a-8851-7a5f0abc8f39",
   "metadata": {},
   "outputs": [],
   "source": [
    "assert(find_min_flips((1, 3, 2, 4), goal) == 3)"
   ]
  },
  {
   "cell_type": "code",
   "execution_count": null,
   "id": "820d0f4a-4575-4ead-8d53-8946ec89de6c",
   "metadata": {},
   "outputs": [],
   "source": [
    "assert(find_min_flips((2, 4, 1, 3), goal) == 4)"
   ]
  },
  {
   "cell_type": "markdown",
   "id": "fcddab9c-57dc-479b-8330-8ad8a40a0bb9",
   "metadata": {},
   "source": [
    "And it'll work for bigger stacks, too..."
   ]
  },
  {
   "cell_type": "code",
   "execution_count": null,
   "id": "9b17e182-69dc-4a79-bcc6-39d00a62dd05",
   "metadata": {},
   "outputs": [],
   "source": [
    "assert(find_min_flips((2, 3, 6, 4, 1, 5), (1, 2, 3, 4, 5, 6)) == 5)"
   ]
  },
  {
   "cell_type": "markdown",
   "id": "f56e3aa3-4022-48a3-a009-a38d5fdc1c2b",
   "metadata": {},
   "source": [
    "Very nice. It's not the most efficient, but it's not bad for a ~first~ ~second~ third(?) pass. And it uses a pattern we'll see again in future search problems."
   ]
  },
  {
   "cell_type": "markdown",
   "id": "34e9e2ad-280b-4d0b-a25d-40d8a8663661",
   "metadata": {},
   "source": [
    "## Aside: Breadth-First vs. Depth-First\n",
    "\n",
    "Our inefficient solution that handled up to three flips looked pretty repetitive. We *might* have tried to get rid of the redundancy:"
   ]
  },
  {
   "cell_type": "code",
   "execution_count": null,
   "id": "8d3c3e28-d85d-4cff-8f57-b7bc7b87436a",
   "metadata": {},
   "outputs": [],
   "source": [
    "def find_min_flips(pancakes, goal):\n",
    "    if is_sorted(pancakes, goal):\n",
    "        return 0\n",
    "    \n",
    "    for after_one_flip in get_next_states(pancakes):\n",
    "        if is_sorted(after_one_flip, goal):\n",
    "            return 1\n",
    "        for after_two_flips in get_next_states(after_one_flip):\n",
    "            if is_sorted(after_two_flips, goal):\n",
    "                return 2\n",
    "            for after_three_flips in get_next_states(after_two_flips):\n",
    "                if is_sorted(after_three_flips, goal):\n",
    "                    return 3"
   ]
  },
  {
   "cell_type": "markdown",
   "id": "aca70fed-e424-4132-b0a1-70f5085bffd1",
   "metadata": {},
   "source": [
    "It's still not a complete solution, but it *looks* a little cleaner. The problem is, it doesn't consider possibilities in the right order: it might look at a 3-flip sorted order **before** a 1- or 2-flip sorted order. For example,"
   ]
  },
  {
   "cell_type": "code",
   "execution_count": null,
   "id": "90e4af09-3ae9-4511-bafa-aeb5c769cc41",
   "metadata": {},
   "outputs": [],
   "source": [
    "find_min_flips((3, 2, 1, 4), goal)"
   ]
  },
  {
   "cell_type": "markdown",
   "id": "af2ffd65-7a94-4546-baf6-a7c01f9f796a",
   "metadata": {},
   "source": [
    "`(3, 2, 1, 4)` is pretty obviously sortable in just one flip, but our \"less redundant\" reworking of the function tells us it'll take at least 3 flips. Whoops. "
   ]
  },
  {
   "cell_type": "markdown",
   "id": "189de413-c914-49ad-b60d-11feb1f12553",
   "metadata": {},
   "source": [
    "But why? Think about how this code is executed. It considers `(3, 2, 1, 4)` first. It isn't sorted, so it looks at the first flip it can make: `(2, 3, 1, 4)`. Obviously not sorted. But instead of considering the next one-flip order -- `(1, 2, 3, 4)`!! -- it enters a loop that starts looking what results from performing a *second* flip. It's going **deep** first, considering all the possibilities that can be generated from its initial action with a second and third flip. But we want to go **broad** first, considering all the 1-flip possibilities before we bother with any two-flip possibilities."
   ]
  }
 ],
 "metadata": {
  "kernelspec": {
   "display_name": "Python 3 (ipykernel)",
   "language": "python",
   "name": "python3"
  },
  "language_info": {
   "codemirror_mode": {
    "name": "ipython",
    "version": 3
   },
   "file_extension": ".py",
   "mimetype": "text/x-python",
   "name": "python",
   "nbconvert_exporter": "python",
   "pygments_lexer": "ipython3",
   "version": "3.12.6"
  }
 },
 "nbformat": 4,
 "nbformat_minor": 5
}
