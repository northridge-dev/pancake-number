{
 "cells": [
  {
   "cell_type": "markdown",
   "id": "e1d60a07-719a-4d7c-bda8-f47ec6e9fadb",
   "metadata": {},
   "source": [
    "# Putting the Pieces Together: A Complete Solution\n",
    "\n",
    "We've solved all our sub-problems. All that remains is to put together the pieces."
   ]
  },
  {
   "cell_type": "markdown",
   "id": "d8bdc1cb-99f0-4541-a814-d423754ba263",
   "metadata": {},
   "source": [
    "## Sub-problem Solutions"
   ]
  },
  {
   "cell_type": "markdown",
   "id": "142e020f-dfbd-4fbd-bc80-69ea2c840ad4",
   "metadata": {},
   "source": [
    "We can test if a stack is sorted:"
   ]
  },
  {
   "cell_type": "code",
   "execution_count": null,
   "id": "abaad3e8-f8eb-4d1e-9337-48348b31d11c",
   "metadata": {},
   "outputs": [],
   "source": [
    "def is_sorted(pancakes, goal):\n",
    "    return pancakes == goal"
   ]
  },
  {
   "cell_type": "markdown",
   "id": "5691c52a-f96c-4015-8dbc-893f2fb66cf2",
   "metadata": {},
   "source": [
    "We can flip the stack at whatever point we choose:"
   ]
  },
  {
   "cell_type": "code",
   "execution_count": null,
   "id": "3c9b9acf-4b34-4c12-b055-b7ac1067bb97",
   "metadata": {},
   "outputs": [],
   "source": [
    "def flip(pancakes, flip_point):\n",
    "    return pancakes[:flip_point][::-1] + pancakes[flip_point:]"
   ]
  },
  {
   "cell_type": "markdown",
   "id": "d3ba87ad-19f2-47fc-9d57-f2c6ee1b92bd",
   "metadata": {},
   "source": [
    "We can programmatically **generate** all the states/orders that are one flip away from the current order:"
   ]
  },
  {
   "cell_type": "code",
   "execution_count": null,
   "id": "8043e1da-bf5c-405c-90cc-a2decf46aa18",
   "metadata": {},
   "outputs": [],
   "source": [
    "def get_next_states(pancakes):\n",
    "    for flip_point in range(2, len(pancakes) + 1):\n",
    "        yield flip(pancakes, flip_point)"
   ]
  },
  {
   "cell_type": "markdown",
   "id": "78764411-123f-4baa-8b92-ee655e44df05",
   "metadata": {},
   "source": [
    "We can (with a little help) generate all the possible starting orders of our stack:"
   ]
  },
  {
   "cell_type": "code",
   "execution_count": null,
   "id": "6005b03e-6ba6-4e70-ad62-55ea12be3d26",
   "metadata": {},
   "outputs": [],
   "source": [
    "from itertools import permutations"
   ]
  },
  {
   "cell_type": "markdown",
   "id": "efae69fb-44f0-4659-bde9-cd5c3572709b",
   "metadata": {},
   "source": [
    "And we can find the minimum flips needed to sort a pancake stack:"
   ]
  },
  {
   "cell_type": "code",
   "execution_count": null,
   "id": "f01573ea-efad-4a3a-ae9f-1bf1970a3d0a",
   "metadata": {},
   "outputs": [],
   "source": [
    "def find_min_flips(pancakes, goal):\n",
    "    queue = [(pancakes, 0)]\n",
    "    \n",
    "    while queue:\n",
    "        current_pancakes, current_flips = queue.pop(0)\n",
    "\n",
    "        if is_sorted(current_pancakes, goal):\n",
    "            return current_flips\n",
    "\n",
    "        for next_state in get_next_states(current_pancakes):\n",
    "            queue.append((next_state, current_flips + 1))\n",
    "\n",
    "    return None"
   ]
  },
  {
   "cell_type": "markdown",
   "id": "04b7949e-307d-4855-bd6f-5057f5adb90b",
   "metadata": {},
   "source": [
    "## Outline of the Complete Solution\n",
    "\n",
    "With those pieces assembled, we only need one more function to pull it all together. Let's think through what it needs to do.\n",
    "\n",
    "1. The only input it needs is the `stack_size` we want to solve for.\n",
    "2. From the `stack_size`, we can build a tuple that represents the ordered `goal` state. (Notice that we need to pass `goal` to several of our helper functions.)\n",
    "3. We can use the `permutations` function we imported and a `for` loop to consider each possible starting order in turn.\n",
    "4. For each starting order, we need to `find_min_flips` -- that is, calculate the minimum number of flips required to get from the starting order to the goal state.\n",
    "5. And we'll need to keep track of the \"biggest minimum\" we come across. We could either:\n",
    "    - store a list of the minimum we calculate for each starting order and then look for the largest element in that list, or\n",
    "    - create a variable -- something like `pancake_number` -- initially set to zero and updated each time we find a starting order that takes more flips to sort than the current value of `pancake_number`\n",
    "\n",
    "Whichever path we choose for (5), that's the value we want to return from the function. \n",
    "\n",
    "That's it. You're very, *very* close to solving the pancake problem. Give it a go..."
   ]
  },
  {
   "cell_type": "markdown",
   "id": "09fe54a8-988d-41ba-b2e9-c20f22a3a484",
   "metadata": {},
   "source": [
    "## Your Solution: `find_pancake_number`"
   ]
  },
  {
   "cell_type": "code",
   "execution_count": null,
   "id": "77dd6c44-c8b8-46a8-a610-f29f8d6f0d5f",
   "metadata": {},
   "outputs": [],
   "source": [
    "def find_pancake_number(stack_size):\n",
    "    pass"
   ]
  },
  {
   "cell_type": "markdown",
   "id": "954591bb-e7f1-473c-88f4-074554872134",
   "metadata": {},
   "source": [
    "## Test Your Solution\n",
    "\n",
    "Let's make sure your solution works. The truth: it's not super efficient. But we can test it on smaller stack sizes."
   ]
  },
  {
   "cell_type": "code",
   "execution_count": null,
   "id": "f110407d-f4b1-4979-8f18-6e0b995a7c4b",
   "metadata": {},
   "outputs": [],
   "source": [
    "assert(find_pancake_number(3) == 3)"
   ]
  },
  {
   "cell_type": "code",
   "execution_count": null,
   "id": "fc2e18d4-d05d-465d-9316-ac545afca6c1",
   "metadata": {},
   "outputs": [],
   "source": [
    "assert(find_pancake_number(4) == 4)"
   ]
  },
  {
   "cell_type": "code",
   "execution_count": null,
   "id": "78fce6d2-95fe-49c9-be55-ed76ca6385f1",
   "metadata": {},
   "outputs": [],
   "source": [
    "assert(find_pancake_number(5) == 5)"
   ]
  },
  {
   "cell_type": "markdown",
   "id": "2727e73d-742e-40b6-ad9d-6a41ee066a02",
   "metadata": {},
   "source": [
    "If you passed those tests, celebrate. What you just did wasn't easy."
   ]
  }
 ],
 "metadata": {
  "kernelspec": {
   "display_name": "Python 3 (ipykernel)",
   "language": "python",
   "name": "python3"
  },
  "language_info": {
   "codemirror_mode": {
    "name": "ipython",
    "version": 3
   },
   "file_extension": ".py",
   "mimetype": "text/x-python",
   "name": "python",
   "nbconvert_exporter": "python",
   "pygments_lexer": "ipython3",
   "version": "3.12.6"
  }
 },
 "nbformat": 4,
 "nbformat_minor": 5
}
