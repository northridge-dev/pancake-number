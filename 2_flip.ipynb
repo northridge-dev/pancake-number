{
 "cells": [
  {
   "cell_type": "markdown",
   "id": "0a5f74b6-1cf0-45e8-8729-e70207972437",
   "metadata": {},
   "source": [
    "# Sub-problem: Flip Your Stack\n",
    "\n",
    "We've now written code to determine if a stack is ordered. When a stack is not (yet) properly ordered, we'll need to generate the next generation of stack states: what the pancake stack will look like after the next flip. That's the problem we'll tackle now."
   ]
  },
  {
   "cell_type": "markdown",
   "id": "bc674a4e-3df6-428a-8a38-96bfb4bea03c",
   "metadata": {},
   "source": [
    "## `flip`\n",
    "\n",
    "First thing first, let's write a function that can take two inputs:\n",
    "  - a pancake stack\n",
    "  - a number of pancakes to flip or the position at which we want to insert the spatula\n",
    "\n",
    "Since we'll soon want to flip the same stack multiple times (to generate *all* the possible next states), it's important that your function **NOT** mutate the stack. It should instead return a new list that has been reordered by the flip.\n",
    "\n",
    "Replace the `pass` line with your code. If you're stuck, think about what we've learned about taking slices of lists and joining lists together."
   ]
  },
  {
   "cell_type": "code",
   "execution_count": null,
   "id": "ae9355e5-6a91-4ef0-804c-6032ee52006b",
   "metadata": {},
   "outputs": [],
   "source": [
    "def flip(pancakes, num_to_flip):\n",
    "    pass"
   ]
  },
  {
   "cell_type": "markdown",
   "id": "685653de-b248-4fd2-ae3c-30718eac74dd",
   "metadata": {},
   "source": [
    "Let's also test your function. Write tests to make sure your `flip` function works as expected. What different types of inputs should you consider? What are the edge cases?\n",
    "\n",
    "How many tests do you need? That's up to you. But try to write at least three. (And feel free to add cells for additional tests.)\n",
    "\n",
    "A test will have this structure:\n",
    "```python\n",
    "assert(flip(['some', 'list', 'to', 'be', 'flipped'], flip_point) == what_you_expect_to_be_returned)\n",
    "```"
   ]
  },
  {
   "cell_type": "code",
   "execution_count": null,
   "id": "1b44172b-e868-4497-bda6-e21a312381c7",
   "metadata": {},
   "outputs": [],
   "source": []
  },
  {
   "cell_type": "code",
   "execution_count": null,
   "id": "9643bf0b-920c-4f77-a5cc-005d209551ae",
   "metadata": {},
   "outputs": [],
   "source": []
  },
  {
   "cell_type": "code",
   "execution_count": null,
   "id": "4e8e3071-392f-4dc3-a79e-ed052d48efec",
   "metadata": {},
   "outputs": [],
   "source": []
  },
  {
   "cell_type": "markdown",
   "id": "f2b7c29a-ca95-4b80-9d55-304b8fd6c1a8",
   "metadata": {},
   "source": [
    "## `get_next_states`\n",
    "\n",
    "Now let's put that `flip` function to work. Because we're using an exhaustive search strategy -- because we don't know in advance what flips will get us closer to the goal state -- we need to consider **all** the possible states that could result from flipping a given pancake stack. \n",
    "\n",
    "Let's write a function that can handle generating all those possible states. Call it `get_next_states`. It only needs a single input, the current state of the pancake stack. It should return a list of lists where each element is a possible order after a flip.\n",
    "\n",
    "How many states should you generate? Of course it depends on the state of the pancake stack. Think about it this way: how many places could you insert the spatula and have the resulting flip be a new order? That's a hint about how to write the function."
   ]
  },
  {
   "cell_type": "code",
   "execution_count": null,
   "id": "8f2c9f5d-ac7c-4f79-a74e-cbe4e33c0645",
   "metadata": {},
   "outputs": [],
   "source": [
    "def get_next_states(pancakes):\n",
    "    pass"
   ]
  },
  {
   "cell_type": "markdown",
   "id": "d25c5098-89f7-4d66-88d3-30d46073e7ac",
   "metadata": {},
   "source": [
    "Write some tests to make sure `get_next_states` works the way you want it to."
   ]
  },
  {
   "cell_type": "code",
   "execution_count": null,
   "id": "c7cb6691-2292-4e9b-8728-8fa4e5e81fc0",
   "metadata": {},
   "outputs": [],
   "source": []
  },
  {
   "cell_type": "code",
   "execution_count": null,
   "id": "a16f7efc-f6a0-43c1-9fa2-d0a06f08ef0e",
   "metadata": {},
   "outputs": [],
   "source": []
  },
  {
   "cell_type": "markdown",
   "id": "33b05bfe-247b-4a0a-a893-e269ad7621a0",
   "metadata": {},
   "source": [
    "By the by, what you just did is pretty sophisticated. You had a job -- flipping the stack -- that you needed to perform multiple times. Instead of cramming it all into one function, you split up the work, creating one function that performs a single flip and a second function that uses your flip function to systematically generate all possible flips. And you tested it. How \"senior dev\" of you!"
   ]
  },
  {
   "cell_type": "markdown",
   "id": "8d7d287a-9de8-4d61-97c5-eb765af9d4aa",
   "metadata": {},
   "source": [
    "## BONUS: Using a Generator\n",
    "\n",
    "The way we wrote it, `get_next_states` creates the whole list of possible next states even though we really only need to consider one of them at a time. It's not such a big deal here since even a stack with 20 pancakes can only be flipped 19 ways. A list of 19 lists isn't *that* much to hold in memory, but it is a little inefficient. And soon we'll have way too many things to keep in memory. So together, let's learn a new trick: turning your `get_next_states` function into a ***generator***."
   ]
  },
  {
   "cell_type": "code",
   "execution_count": null,
   "id": "8eae6672-97ef-4bcb-994a-c16632ad0362",
   "metadata": {},
   "outputs": [],
   "source": []
  }
 ],
 "metadata": {
  "kernelspec": {
   "display_name": "Python 3 (ipykernel)",
   "language": "python",
   "name": "python3"
  },
  "language_info": {
   "codemirror_mode": {
    "name": "ipython",
    "version": 3
   },
   "file_extension": ".py",
   "mimetype": "text/x-python",
   "name": "python",
   "nbconvert_exporter": "python",
   "pygments_lexer": "ipython3",
   "version": "3.12.3"
  }
 },
 "nbformat": 4,
 "nbformat_minor": 5
}
