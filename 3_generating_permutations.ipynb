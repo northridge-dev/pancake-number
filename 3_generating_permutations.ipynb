{
 "cells": [
  {
   "attachments": {},
   "cell_type": "markdown",
   "id": "6bca7337-921f-4449-88c2-3cab3cf2b305",
   "metadata": {},
   "source": [
    "# Generating All Possible Starting Orders\n",
    "\n",
    "We know we need to consider **all** possible starting orders since any of them could require the most flips to sort (resulting in a higher pancake number than we'd calculate if we failed to consider it). \n",
    "\n",
    "What we need is a way to find all the [**permutations**](https://en.wikipedia.org/wiki/Permutation) of the pancakes that comprise the stack. Generating permutations is an interesting problem, but we're going to punt a little and do what developers often do: use code someone else wrote."
   ]
  },
  {
   "cell_type": "markdown",
   "id": "370f030a-8b6d-4961-9b56-dcca29d688e9",
   "metadata": {},
   "source": [
    "There's a Python library called `itertools` (comprised of \"functions creating iterators for efficient looping\") that includes a function called `permutations` that -- true to its name -- generates all the possible permutations of the set you give it.\n",
    "\n",
    "Before you can use it, you need to import it like so:"
   ]
  },
  {
   "cell_type": "code",
   "execution_count": null,
   "id": "7d4e1832-b126-45c5-b1cd-d309240ada25",
   "metadata": {},
   "outputs": [],
   "source": [
    "from itertools import permutations"
   ]
  },
  {
   "cell_type": "markdown",
   "id": "2d786384-ea75-425d-97f2-b76b9522df73",
   "metadata": {},
   "source": [
    "Once you've executed the code, above, `permutations` is loaded into memory and available for use. Let's see how it works. We'll pass it a tuple representing 3 pancakes in the correct order (although we could start with a list or a range or any other iterator and the elements could be in any order)."
   ]
  },
  {
   "cell_type": "code",
   "execution_count": null,
   "id": "4d85164c-9eca-4c3a-91ed-a236df28ca52",
   "metadata": {},
   "outputs": [],
   "source": [
    "permutation_generator = permutations((1, 2, 3))"
   ]
  },
  {
   "cell_type": "markdown",
   "id": "217c4d3b-3d90-4682-ae84-7d3eea5fa2c0",
   "metadata": {},
   "source": [
    "What would you guess is the value of the variable `permutation_generator`? Let's see..."
   ]
  },
  {
   "cell_type": "code",
   "execution_count": null,
   "id": "14511509-78eb-42f5-a8fc-e48341ff0a97",
   "metadata": {},
   "outputs": [],
   "source": [
    "permutation_generator"
   ]
  },
  {
   "cell_type": "markdown",
   "id": "ceed9062-41e9-4a17-8aa0-6ee7a9bfda44",
   "metadata": {},
   "source": [
    "Maybe you thought it would be a list of all the permutations. Instead, it's an **iterator**, a special sort of object that can, when asked, generate the next permutation. For example, here's the next (in this case, the first) permutation..."
   ]
  },
  {
   "cell_type": "code",
   "execution_count": null,
   "id": "ee357de5-794d-43d4-9f3f-07e105cb7f73",
   "metadata": {},
   "outputs": [],
   "source": [
    "next(permutation_generator)"
   ]
  },
  {
   "cell_type": "markdown",
   "id": "fe80e836-e252-4182-92af-df807aab4a50",
   "metadata": {},
   "source": [
    "And the next..."
   ]
  },
  {
   "cell_type": "code",
   "execution_count": null,
   "id": "23ee1515-e1af-4e11-9626-23806274a690",
   "metadata": {},
   "outputs": [],
   "source": [
    "next(permutation_generator)"
   ]
  },
  {
   "cell_type": "markdown",
   "id": "5563cc37-aebc-4dac-bf18-f45ef7017ff0",
   "metadata": {},
   "source": [
    "And the next..."
   ]
  },
  {
   "cell_type": "code",
   "execution_count": null,
   "id": "ad53e37e-cd0d-4e9d-b903-5b0ac6f0181f",
   "metadata": {},
   "outputs": [],
   "source": [
    "next(permutation_generator)"
   ]
  },
  {
   "cell_type": "markdown",
   "id": "fcabc980-c9c2-46be-b973-38a5267fd630",
   "metadata": {},
   "source": [
    "You might know that the number of permutations for a set of size *n* is *n!* (*n factorial*). So for three items, there are 3 * 2 * 1 = 6 permutations. We've already seen three of them. Let's generate the last three..."
   ]
  },
  {
   "cell_type": "code",
   "execution_count": null,
   "id": "3e3409c0-fae4-4646-81c4-edeca781a3f8",
   "metadata": {},
   "outputs": [],
   "source": [
    "next(permutation_generator)\n",
    "next(permutation_generator)\n",
    "next(permutation_generator)"
   ]
  },
  {
   "cell_type": "markdown",
   "id": "fdee07fc-1f65-4b5d-865e-d81dcae5d13d",
   "metadata": {},
   "source": [
    "Since we've been counting, we know there are no ~bullets~ permutations left. What do you think'll happen if we pull the `next` \"trigger\" again?"
   ]
  },
  {
   "cell_type": "code",
   "execution_count": null,
   "id": "9bf4c565-c7c4-45be-94e0-c65490b5dae9",
   "metadata": {},
   "outputs": [],
   "source": [
    "next(permutation_generator)"
   ]
  },
  {
   "cell_type": "markdown",
   "id": "9722241b-923b-4597-801d-3fcfad821e94",
   "metadata": {},
   "source": [
    "That's a `StopIteration` exception. It's what an iterator returns when it's values are exhausted."
   ]
  },
  {
   "cell_type": "markdown",
   "id": "3668b0d6-c968-439f-9f79-d51f2473747e",
   "metadata": {},
   "source": [
    "We've been using this special `next` function to get the next value from the iterator we created with the `permutations` function. But that's not typically how you'll use such an iterator. You could use a list comprehension to create a list of all the values returned from the iterator. To show you, I'll first need to create a new permutation iterator (once an iterator is exhausted, it can't be reused)."
   ]
  },
  {
   "cell_type": "code",
   "execution_count": null,
   "id": "189eeee5-6266-4181-8d4c-3886cb7e52c2",
   "metadata": {},
   "outputs": [],
   "source": [
    "new_permutation_iterator = permutations((1, 2, 3))\n",
    "[perm for perm in new_permutation_iterator]"
   ]
  },
  {
   "cell_type": "markdown",
   "id": "58258b98-b94d-4fa4-bdd9-71a6733d247c",
   "metadata": {},
   "source": [
    "In a way, that list comprehension \"automates\" the job of calling `next` again and again until it receives the `StopIteration` exception. It also puts all those results into a list."
   ]
  },
  {
   "cell_type": "markdown",
   "id": "a0dad0d4-eda0-471c-9a75-ce8a050d1c3e",
   "metadata": {},
   "source": [
    "Maybe you're not familiar with the syntax of that list comprehension, but hopefully it reminds you of something you should be familiar with: a `for` loop. Here's a more typical way of *iterating* through an *iterator*:"
   ]
  },
  {
   "cell_type": "code",
   "execution_count": null,
   "id": "58bff913-f104-4908-852c-0c7d64123dfd",
   "metadata": {},
   "outputs": [],
   "source": [
    "another_permutation_iterator = permutations(['b', 'a', 'c'])\n",
    "for perm in another_permutation_iterator:\n",
    "    print(perm)"
   ]
  },
  {
   "cell_type": "markdown",
   "id": "10b05c0e-25e7-4e0a-8a2f-167f3961300d",
   "metadata": {},
   "source": [
    "You don't have to first create the iterator, store it with a variable, and then use that variable name in the `for` loop. You can create the iterator in the `for` loop itself:"
   ]
  },
  {
   "cell_type": "code",
   "execution_count": null,
   "id": "024d2bde-e201-46f3-a4bb-0d71cc770cb0",
   "metadata": {},
   "outputs": [],
   "source": [
    "for perm in permutations(['b', 'a', 'c']):\n",
    "    print(perm)"
   ]
  },
  {
   "cell_type": "markdown",
   "id": "cac48627-b155-4b4d-bc58-0479e4d49e32",
   "metadata": {},
   "source": [
    "And that's how we'll use it. We can take in turn each permutation -- which, we remember, is a possible starting order for our pancake stack -- and use it to perform whatever work we need to do. Here's what that might look like if we're trying to calculate the pancake number for a stack of 5 pancakes:\n",
    "\n",
    "```python\n",
    "pancakes = range(1, 6) \n",
    "for starting_order in permutations(pancakes):\n",
    "    min_flips = find_min_flips(starting_order)\n",
    "```"
   ]
  },
  {
   "cell_type": "markdown",
   "id": "28fa09cb-4159-41bf-bc4e-9c714fb97203",
   "metadata": {},
   "source": [
    "## The efficiency of iterators"
   ]
  },
  {
   "cell_type": "markdown",
   "id": "b6d20a71-4a4f-48cc-abd6-dc93bd5f22e4",
   "metadata": {},
   "source": [
    "We've been using as examples sets with only 3 items (and thus 6 permutations). A list of six tuples is no big deal."
   ]
  },
  {
   "cell_type": "code",
   "execution_count": null,
   "id": "1f595812-bd10-48e5-8cd3-a020ea2347b7",
   "metadata": {},
   "outputs": [],
   "source": [
    "from sys import getsizeof\n",
    "\n",
    "def calculate_memory_used_for_perms(lst):\n",
    "    memory_in_bytes = getsizeof(lst)\n",
    "    for tup in lst:\n",
    "        memory_in_bytes += getsizeof(tup)\n",
    "        for num in tup:\n",
    "            memory_in_bytes += getsizeof(num)\n",
    "    return memory_in_bytes\n",
    "\n",
    "permutations_for_three = [perm for perm in permutations(range(3))]\n",
    "calculate_memory_used_for_perms(permutations_for_three)"
   ]
  },
  {
   "cell_type": "markdown",
   "id": "747f7ad7-821f-4ff4-9991-a5ee3b7148f6",
   "metadata": {},
   "source": [
    "`getsizeof` calculates the memory used for a value. For a list (like the list generated by the list comprehension, above), it only calculates the memory consumed by the list itself -- its own internal data structure and references to each of its elements. To get the total memory consumed by the list, we need to add the memory used by each of its tuples *and* each of the integers in each of those tuples."
   ]
  },
  {
   "cell_type": "markdown",
   "id": "66c58760-3e23-4bba-a2ec-a3af95f51680",
   "metadata": {},
   "source": [
    "1kb isn't so bad. But how much memory would you need to store all the permutations for a stack with 5 pancakes?"
   ]
  },
  {
   "cell_type": "code",
   "execution_count": null,
   "id": "e4c7c5b0-73ec-494c-bc51-eec8c6ea4c88",
   "metadata": {},
   "outputs": [],
   "source": [
    "permutations_for_five = [perm for perm in permutations(range(5))]\n",
    "calculate_memory_used_for_perms(permutations_for_five)"
   ]
  },
  {
   "cell_type": "markdown",
   "id": "ee396b42-8051-47c2-94e0-edab26959d0a",
   "metadata": {},
   "source": [
    "About 27kb. Still not terrible, but it's ~27x more even though we only added two pancakes. How bad would it get for a stack of 10 pancakes?"
   ]
  },
  {
   "cell_type": "code",
   "execution_count": null,
   "id": "6dcc036d-88e1-4af8-a6c5-2e97f6c5adcd",
   "metadata": {},
   "outputs": [],
   "source": [
    "permutations_for_ten = [perm for perm in permutations(range(10))]\n",
    "calculate_memory_used_for_perms(permutations_for_ten)"
   ]
  },
  {
   "cell_type": "markdown",
   "id": "db8b5e39-6067-4185-aae0-e5a475c75bc2",
   "metadata": {},
   "source": [
    "Yikes! That's about 1.5 **gigabytes**, about 5400x more memory than we needed for the stack of 5 pancakes."
   ]
  },
  {
   "cell_type": "markdown",
   "id": "c6c8fd59-47e3-4fac-830d-450ae647cb6b",
   "metadata": {},
   "source": [
    "What about the memory consumed by the iterators? We don't need to add up the memory used by each of the iterator's items -- it doesn't *have* pre-computed items. "
   ]
  },
  {
   "cell_type": "code",
   "execution_count": null,
   "id": "2f4c8f00-c076-475e-bd84-7c66a19397ce",
   "metadata": {},
   "outputs": [],
   "source": [
    "getsizeof(permutations(range(3)))"
   ]
  },
  {
   "cell_type": "code",
   "execution_count": null,
   "id": "eabd4d76-de6c-4768-988d-730233d9da45",
   "metadata": {},
   "outputs": [],
   "source": [
    "getsizeof(permutations(range(5)))"
   ]
  },
  {
   "cell_type": "code",
   "execution_count": null,
   "id": "f7f9f7e0-b832-475f-8163-b00c31ac133d",
   "metadata": {},
   "outputs": [],
   "source": [
    "getsizeof(permutations(range(10)))"
   ]
  },
  {
   "cell_type": "markdown",
   "id": "bf0dac89-b1b8-4032-b59b-fed29c7542d5",
   "metadata": {},
   "source": [
    "The iterator for 10 pancakes is larger than the iterator for 5 pancakes, but it's still only 240 bytes (~0.25kb) and only 80 bytes larger than the iterator for 5 pancakes. Much, much better."
   ]
  },
  {
   "cell_type": "markdown",
   "id": "22ee94d2-08b7-4551-bee4-a9cd0635058e",
   "metadata": {},
   "source": [
    "## Curious about how to generate permutations?"
   ]
  },
  {
   "cell_type": "markdown",
   "id": "2ce41e17-eaff-4509-9e7c-1712ff37c136",
   "metadata": {},
   "source": [
    "We didn't dive deep or write code ourselves to generate permutations, but maybe you're curious about how it works. If so, you can look at the [documentation](https://docs.python.org/3/library/itertools.html#itertools.permutations) for the `permutations` function. It includes some code that shows you how it works (more or less). But it's not easy to understand! Undaunted but want a little help? Check out this [video](https://www.youtube.com/watch?v=jUM_Dpt6yu0)."
   ]
  }
 ],
 "metadata": {
  "kernelspec": {
   "display_name": "Python 3 (ipykernel)",
   "language": "python",
   "name": "python3"
  },
  "language_info": {
   "codemirror_mode": {
    "name": "ipython",
    "version": 3
   },
   "file_extension": ".py",
   "mimetype": "text/x-python",
   "name": "python",
   "nbconvert_exporter": "python",
   "pygments_lexer": "ipython3",
   "version": "3.12.6"
  }
 },
 "nbformat": 4,
 "nbformat_minor": 5
}
