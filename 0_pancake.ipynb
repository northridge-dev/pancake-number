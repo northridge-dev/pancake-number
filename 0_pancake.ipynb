{
 "cells": [
  {
   "cell_type": "markdown",
   "id": "7b3f7161-52ba-43ec-be11-bc8ac06ca134",
   "metadata": {},
   "source": [
    "# Pancake Numbers\n",
    "\n",
    "Let's roll up our sleeves and write some code to find **pancake numbers**.\n",
    "\n",
    "Remember that a pancake number is the **the maximum number of flips needed to sort a stack of *n* pancakes**. \n",
    "\n",
    "![sorted pancake stack](img/pancake_stack.png)\n",
    "\n",
    "So, for example:\n",
    "  - a stack of three pancakes can always be sorted in no more than 3 flips\n",
    "  - a stack of four pancakes can always be sorted in no more than 4 flips\n",
    "  - a stack of five pancakes can always be sorted in no more than 5 flips\n",
    "\n",
    "And a **flip** means inverting the order of some number of pancakes at the top of the stack: exactly what would happen if you used your spatula to pick up and flip over some number of pancakes.\n",
    "\n",
    "![flip operation](img/flip.png)\n",
    "\n",
    "\n",
    "This [video](https://www.youtube.com/watch?v=m3drS_8BpU0) offers a nice overview of the problem with examples."
   ]
  },
  {
   "cell_type": "markdown",
   "id": "69de6da1-dfdf-458b-af71-894592d430e4",
   "metadata": {},
   "source": [
    "## Goals\n",
    "\n",
    "Through ingenuity and computing power, we already know the pancake number for stacks up to 19. I don't expect us to break any new ground or find the pancake number for stacks of 20 pancakes. If discovering a new pancake number isn't our goal, what is?\n",
    "\n",
    "We have *lots* of goals...\n",
    "\n",
    "### Problem Solving Goals\n",
    "- Understand a challenging technical problem\n",
    "- ***Decompose*** that problem in to sub-problems\n",
    "- Explore alternatives and learn how to to evaluate them\n",
    "\n",
    "### Python Goals\n",
    "- Apply what we've learned about working with Python data types, flow controls, and functions\n",
    "- Learn a few new Python techniques: list methods, generators, maybe recursive functions\n",
    "\n",
    "### Understanding Search Problems\n",
    "- How search problems can be framed\n",
    "- Techniques for solving search problems\n",
    "\n",
    "\n",
    "You wouldn't have to work very hard to find (or have some LLM generate for you) some decent code to find pancake numbers. **Let's not**. It would defeat all the learning we'd like to accomplish. Perhaps there will be one or two points where we decide it would be interesting to see if and how an LLM can help us get unstuck. "
   ]
  },
  {
   "cell_type": "markdown",
   "id": "3c080aec-31f6-4c16-a5ba-efca1dde5ba7",
   "metadata": {},
   "source": [
    "## Additional Notebooks\n",
    "\n",
    "We'll use additional notebooks to tackle sub-problems and put those solutions together. Here's where we'll link to those other notebooks.\n",
    "\n",
    "1. [Determining if a pancake stack is sorted](1_is_sorted.ipynb)\n",
    "2. [Flipping once and performing all possible flips](2_flip.ipynb)\n",
    "3. [Finding all starting orders (permutations)](3_generating_permutations.ipynb)"
   ]
  }
 ],
 "metadata": {
  "kernelspec": {
   "display_name": "Python 3 (ipykernel)",
   "language": "python",
   "name": "python3"
  },
  "language_info": {
   "codemirror_mode": {
    "name": "ipython",
    "version": 3
   },
   "file_extension": ".py",
   "mimetype": "text/x-python",
   "name": "python",
   "nbconvert_exporter": "python",
   "pygments_lexer": "ipython3",
   "version": "3.12.6"
  }
 },
 "nbformat": 4,
 "nbformat_minor": 5
}
