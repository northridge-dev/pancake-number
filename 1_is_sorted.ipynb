{
 "cells": [
  {
   "cell_type": "markdown",
   "id": "510c445a-851a-4ff1-af85-5493574f320f",
   "metadata": {},
   "source": [
    "# Sub-problem: Is the Pancake Stack Sorted?\n",
    "\n",
    "Let's start with a relatively straightforward sub-problem. You and I could eyeball a stack of pancakes and pretty quickly judge if it's ordered or not. Python can't. Instead, we'll write a function that takes a pancake stack as input and returns `True` if it is sorted (smallest to largest) and `False` otherwise.\n",
    "\n",
    "Since this is a relatively straightforward sub-problem, we'll spend a little time considering alternative solutions."
   ]
  },
  {
   "cell_type": "markdown",
   "id": "bc17d621-93b2-4d20-89db-d692c2cf27fc",
   "metadata": {},
   "source": [
    "## Building a Test Function\n",
    "\n",
    "It's usually a good idea to test your solution(s) to make sure your code works the way you expect. Since we're going to consider a few alternatives, let's build a function that we can reuse each time we want to test a solution."
   ]
  },
  {
   "cell_type": "code",
   "execution_count": null,
   "id": "16974a4e-6ec9-4fe3-95a2-bcdf57050942",
   "metadata": {},
   "outputs": [],
   "source": [
    "def test_is_sorted(func_to_test):\n",
    "    assert(func_to_test([1, 2, 3, 4, 5]) == True)  # returns True when the stack is sorted\n",
    "    assert(func_to_test([1, 2, 3, 5, 4]) == False) # returns False when misordered at end of stack\n",
    "    assert(func_to_test([2, 1, 3, 4, 5]) == False) # returns False when misordered at beginning of stack\n",
    "    assert(func_to_test([]) == True) # returns True when the stack is empty (so ordered)\n",
    "    assert(func_to_test([3]) == True) # returns true when the stack has only one item (so ordered)\n",
    "    return 'passed'"
   ]
  },
  {
   "cell_type": "markdown",
   "id": "c53d90ca-1422-475d-af8d-d3f4f2d54b3d",
   "metadata": {},
   "source": [
    "When we want to test a solution, we'll pass the function we want to test as an argument. (Stop for a second and appreciate how *rad* it is that you can pass one function to another function.)\n",
    "\n",
    "Those `assert` statements will throw an error if `func_to_test` doesn't return the expected result. Otherwise, it will return `\"passed\"`. Look at the comments to see waht each test is testing. When writing tests, try to think of all the different sorts of input the function might receive, including unlike **edge cases** (like an empty list or a list with a single element)."
   ]
  },
  {
   "cell_type": "markdown",
   "id": "251de4d5-a464-4ea6-bbc6-5b000e35a6de",
   "metadata": {},
   "source": [
    "## Simple(-Looking) Solution\n",
    "\n",
    "Let's start with a pretty simple-looking solution:"
   ]
  },
  {
   "cell_type": "code",
   "execution_count": null,
   "id": "1b671e43-090a-43b9-938a-bbff40f45571",
   "metadata": {},
   "outputs": [],
   "source": [
    "def is_sorted_simple(pancakes):\n",
    "    return pancakes == sorted(pancakes)"
   ]
  },
  {
   "cell_type": "markdown",
   "id": "a2d384df-8b7c-41c8-916a-a4d371ad4498",
   "metadata": {},
   "source": [
    "And let's test it:"
   ]
  },
  {
   "cell_type": "code",
   "execution_count": null,
   "id": "31d04167-5c64-40d5-9b86-1b21ca0813b0",
   "metadata": {},
   "outputs": [],
   "source": [
    "test_is_sorted(is_sorted_simple)"
   ]
  },
  {
   "cell_type": "markdown",
   "id": "0079ed0d-666f-456e-8f70-e0e69821c4b8",
   "metadata": {},
   "source": [
    "I said \"simple**-looking**\" because there's actually a lot of working going on \"under the hood\":\n",
    "  - First, the Python interpreter has to sort the list of pancakes. Sorting with `sorted` takes `n log n` or **linearithmic** time. That means that the time it takes to sort a list grows **faster** than the list size itself. Linearithmic time isn't terrible, but it's worth noting.\n",
    "  - Second, the Python interpreter has to compare each item of the list to its corresponding item in the sorted list.\n",
    "\n",
    "Is this a \"bad\" solution? No. It's fairly easy to understand, and the performance penalty for lists with 10 or 15 or 20 items isn't so bad. But it's also the case that we'll likely call this function thousands of times."
   ]
  },
  {
   "cell_type": "markdown",
   "id": "297483a8-73bf-4120-871a-5b242cc7cb8e",
   "metadata": {},
   "source": [
    "## Index-Range Solution\n",
    "\n",
    "Let's give it another try. In this case, we'll use a `for` loop that will execute `n - 1` times where `n` is the length of the pancake stack. On each iteration of the loop, we'll compare the \"current\" pancake to the one that comes after it. If a pancake is ever bigger than the pancake that follows it, we'll know the stack isn't sorted, so we'll return `False` and thus stop the function. If we get all the way through the list and never find an out-of-order pair, we'll know the list is sorted, so we'll return `True`."
   ]
  },
  {
   "cell_type": "code",
   "execution_count": null,
   "id": "6d4d073e-5ead-4a1a-a8a9-aa6751a02005",
   "metadata": {},
   "outputs": [],
   "source": [
    "def is_sorted_index_range(pancakes):\n",
    "    for index in range(len(pancakes) - 1): # sub 1 because you don't need to compare the last pancake to a \"next\" pancake\n",
    "        pancake, next_pancake = pancakes[index], pancakes[index + 1]\n",
    "        if pancake > next_pancake:\n",
    "            return False\n",
    "    return True"
   ]
  },
  {
   "cell_type": "markdown",
   "id": "951a204c-a1c4-451e-8299-cd8f048df095",
   "metadata": {},
   "source": [
    "Let's use our tests to make sure it's working the way we want."
   ]
  },
  {
   "cell_type": "code",
   "execution_count": null,
   "id": "0c3af112-f6d0-478e-a3bd-de7980ebd915",
   "metadata": {},
   "outputs": [],
   "source": [
    "test_is_sorted(is_sorted_index_range)"
   ]
  },
  {
   "cell_type": "markdown",
   "id": "0b178130-646f-4e43-b556-cd608b223de3",
   "metadata": {},
   "source": [
    "This solution doesn't require the linearithmic sort. Since it only needs as many iterations as there are elements in the list, its time will grow in step with the size of the input list. It also takes less memory since it doesn't have to store a (sorted) copy of the list. True, it stores a few extra variables, but we don't need *more* variables as the the size of the input list grows. In fact, we could do without a couple variable assignments. This is equivalent:\n",
    "\n",
    "```python\n",
    "def is_sorted_index_range_alt(pancakes):\n",
    "    for index in range(len(pancakes) - 1):\n",
    "        if pancakes[index] > pancakes[index + 1]:\n",
    "          return False\n",
    "    return True\n",
    "```"
   ]
  },
  {
   "cell_type": "markdown",
   "id": "9956346f-796d-40fb-b6f4-4c64e8aad286",
   "metadata": {},
   "source": [
    "So it's more ***efficient*** than the \"simple\" solution. But as is often the case, more efficient code can be harder to read and understand. I have to work a little harder to understand what this code does. It's a little easier to make a mistake. For example, see what would happen if you don't subtract 1 in the `range` you create for the loop. So maybe you find yourself writing more comments to explain quirky bits of code or creating extra variables to make it more ***readable***."
   ]
  },
  {
   "cell_type": "markdown",
   "id": "1ab2a1a2-f281-4cf6-a28e-f1f5b055a93a",
   "metadata": {},
   "source": [
    "## \"Enumerate\" Solution\n",
    "\n",
    "Now let's look at a slight modification of the \"index-range\" solution. "
   ]
  },
  {
   "cell_type": "code",
   "execution_count": null,
   "id": "c2dd3b58-6d3e-4275-89c3-ed63daf69b55",
   "metadata": {},
   "outputs": [],
   "source": [
    "def is_sorted_enumerate(pancakes):\n",
    "    for index, pancake in enumerate(pancakes[:-1]):\n",
    "        next_pancake = pancakes[index + 1]\n",
    "        if pancake > next_pancake:\n",
    "            return False\n",
    "    return True"
   ]
  },
  {
   "cell_type": "code",
   "execution_count": null,
   "id": "50e2b798-62bc-454b-9ce3-a2bf6ae2eb82",
   "metadata": {},
   "outputs": [],
   "source": [
    "test_is_sorted(is_sorted_enumerate)"
   ]
  },
  {
   "cell_type": "markdown",
   "id": "7d73e951-3434-40af-a3d9-2794bd73425b",
   "metadata": {},
   "source": [
    "Using `range` to get a list of indices and then using those indices to access the values in the list (as we did in the \"range-index\" solution) is super common, especially if you need to access more than one list element at a time, for example, to compare an element to its neighbor.\n",
    " "
   ]
  },
  {
   "cell_type": "markdown",
   "id": "fa56127b-eb1a-4a7c-a46d-b3970c66defe",
   "metadata": {},
   "source": [
    "`enumerate` gives us a way to access *both* the current element *and* its index. To see why, take a look at what enumerate does:"
   ]
  },
  {
   "cell_type": "code",
   "execution_count": null,
   "id": "b564dbae-4d5d-4f58-a3ac-33ff23281803",
   "metadata": {},
   "outputs": [],
   "source": [
    "example_list = ['a', 'b', 'c', 'd', 'e', 'f', 'g']\n",
    "list(enumerate(example_list))"
   ]
  },
  {
   "cell_type": "markdown",
   "id": "49ad8023-d9f1-44e6-baf3-fde6faab3075",
   "metadata": {},
   "source": [
    "`enumerate` creates an *iterator*. We'll learn more about those later. For now, to make it easier to see what's happening, I forced it back into a list. And what does it contain? It has the same length as `example_list`, but in place of each element in `example_list`, there's a **tuple** (a fixed-length list) with two elements, the index number and the original value: `(<index>, <value>)`. "
   ]
  },
  {
   "cell_type": "markdown",
   "id": "939a9bd4-afda-420f-8eb3-2112ad548964",
   "metadata": {},
   "source": [
    "In the `for` loop, we can then *destructure* the elements of each tuple, assigning the first element in the tuple to the variable `index` and the second element in the tuple to the variable `pancake`. Then we already have the value of the \"current\" pancake but also have access to its position (index) in the list so we can look up its successor."
   ]
  },
  {
   "cell_type": "markdown",
   "id": "5709425d-c02e-40f9-a5be-2097973e1bd9",
   "metadata": {},
   "source": [
    "Is it better? Not obviously. It more a matter of opinion. But it's good for us to know that there's more than one way to go about it."
   ]
  },
  {
   "cell_type": "markdown",
   "id": "e73548d3-7282-40f9-b4d0-05266bb749d6",
   "metadata": {},
   "source": [
    "## \"Zip\" Solution\n",
    "\n",
    "Okay, one more. Before I show you the complete solution, let me (re-)introduce you to the `zip` function."
   ]
  },
  {
   "cell_type": "code",
   "execution_count": null,
   "id": "d852fb54-6ecf-4557-b02a-baca0b3a7767",
   "metadata": {},
   "outputs": [],
   "source": [
    "list_one = [\"red\", \"blue\", \"green\"]\n",
    "list_two = [\"blood\", \"sky\", \"lime\"]\n",
    "list(zip(list_two, list_one))"
   ]
  },
  {
   "cell_type": "markdown",
   "id": "ddc39f2c-2bd0-488a-b324-3cdabc654e68",
   "metadata": {},
   "source": [
    "`zip` \"zips\" together two or more lists. Like `enumerate`, it produces an iterator, but again I've forced it into a list. Its first element is tuple of the first element from each list, its second element is a tuple of the second element from each list, and so on."
   ]
  },
  {
   "cell_type": "markdown",
   "id": "fb556b16-23fe-4782-8504-09960b46b051",
   "metadata": {},
   "source": [
    "One more preliminary. Look at what I get if I offset a list by one and then `zip` it with the original:"
   ]
  },
  {
   "cell_type": "code",
   "execution_count": null,
   "id": "f9a32786-9c38-4d05-b379-94f01deb7892",
   "metadata": {},
   "outputs": [],
   "source": [
    "ordered = [1, 2, 3, 4, 5, 6]\n",
    "offset = ordered[1:]\n",
    "list(zip(ordered, offset))"
   ]
  },
  {
   "cell_type": "markdown",
   "id": "0822f63c-8be5-4193-8a53-ff93e3f7640a",
   "metadata": {},
   "source": [
    "Because `ordered` is longer than `offset`, the last element of `ordered` is left off. But that's no problem for our purposes. To me, this looks like a promising way to compare one element of a list with the element that follows it."
   ]
  },
  {
   "cell_type": "code",
   "execution_count": null,
   "id": "2b82e8ef-b97f-42d0-98fc-a9cd9bb4b6bd",
   "metadata": {},
   "outputs": [],
   "source": [
    "def is_sorted_zip(pancakes):\n",
    "    for pancake, next_pancake in zip(pancakes, pancakes[1:]):\n",
    "        if pancake > next_pancake:\n",
    "            return False\n",
    "    return True"
   ]
  },
  {
   "cell_type": "code",
   "execution_count": null,
   "id": "5742aa4b-43d8-4452-bb6f-28835a939695",
   "metadata": {},
   "outputs": [],
   "source": [
    "test_is_sorted(is_sorted_zip)"
   ]
  },
  {
   "cell_type": "markdown",
   "id": "d5026d7e-65f8-49c7-a9f4-dc7eee7faf99",
   "metadata": {},
   "source": [
    "It's more efficient than the simple solution and very nearly as efficient as the range-index or enumerate solutions. Is it more readable? I think so, but opinions can vary."
   ]
  },
  {
   "cell_type": "markdown",
   "id": "66433431-704c-4ab4-a919-6bff5f4012bd",
   "metadata": {},
   "source": [
    "## Timing the Solutions\n",
    "\n",
    "Curious how long each of these solutions takes to run? Python notebooks have special \"magics\", one of which will time a function."
   ]
  },
  {
   "cell_type": "code",
   "execution_count": null,
   "id": "db406c99-c43a-421f-b115-e08ad399c27c",
   "metadata": {},
   "outputs": [],
   "source": [
    "%%time\n",
    "is_sorted_simple([1, 2, 3, 4, 5, 6, 7, 8, 9, 10])"
   ]
  },
  {
   "cell_type": "markdown",
   "id": "a70782e2-8a66-470e-b9c7-e0fcbec75219",
   "metadata": {},
   "source": [
    "\"Wall time\" means the amount of actual time that passed from when the function started executing to when it stopped. The total \"CPU\" time, on the other hand, is how much processor time it took up. Why are the two not the same? Because the CPU is shared with other processes, some \"wall time\" is spent doing work for those other processes.\n",
    "\n",
    "Your results may vary, but when I ran the cell, above, `is_sorted_simple` took about 10 microseconds of CPU time. That's 10 **millionths** of a second. If you run it again, you'll likely get a different result, and because the number is so small to start with, the difference could be relatively large. For example, I just ran the cell a few more times and got 10, 11, 10, 12, and 18 microseconds. 1 microsecond doesn't seem like much (and in absolute terms, it's not), but if I'm benchmarking a function, 11 microseconds is 10% slower than 10 microseconds. It sounds more significant when you put it that way. And 18 microseconds is a whopping 80% slower."
   ]
  },
  {
   "cell_type": "markdown",
   "id": "b210c0f5-b183-4919-9df1-4fcae7241df1",
   "metadata": {},
   "source": [
    "With that sort of variation between executions of the same function, we're unlikely to be able to draw any firm conclusions when we time different functions."
   ]
  },
  {
   "cell_type": "markdown",
   "id": "83f60f89-54cd-41de-b0a0-4320f3063794",
   "metadata": {},
   "source": [
    "That doesn't mean we can't compare. To get more reliable comparisons, we need to:\n",
    "1. increase the size of the list that we're checking (since we've been analyzing performance in terms of the size of the input, we need inputs big enough to make a difference)\n",
    "2. try the function many, many times and take the average time\n",
    "\n",
    "Luckily, Python notebooks make that pretty easy."
   ]
  },
  {
   "cell_type": "markdown",
   "id": "abe0432c-d1e3-4857-9fe2-045cabe7acef",
   "metadata": {},
   "source": [
    "We'll first create a list with 10,000 elements that we can use for our benchmarks."
   ]
  },
  {
   "cell_type": "code",
   "execution_count": null,
   "id": "f35152af-155c-4e4f-bc0a-fa4a14feb429",
   "metadata": {},
   "outputs": [],
   "source": [
    "timing_list = list(range(10000))"
   ]
  },
  {
   "cell_type": "markdown",
   "id": "4539743c-f34c-4ce1-8e5f-494a09b348c1",
   "metadata": {},
   "source": [
    "And then we'll use the `%timeit` magic. Instead of running the code just once (as `%time` or `%%time` does), `%timeit` will execute your code again and again for about 2 seconds and then report the **average** it took. Depending on how fast the function it, it'll be executed somewhere 7,000 - 70,000 times, and the average of that many runs is a far more reliable measure of the performance of the function."
   ]
  },
  {
   "cell_type": "code",
   "execution_count": null,
   "id": "b3fef454-c559-4571-abae-cb000bff881d",
   "metadata": {},
   "outputs": [],
   "source": [
    "%timeit is_sorted_simple(timing_list)"
   ]
  },
  {
   "cell_type": "code",
   "execution_count": null,
   "id": "b0beaa02-6dc2-4741-a101-84a8941db80c",
   "metadata": {},
   "outputs": [],
   "source": [
    "%timeit is_sorted_enumerate(timing_list)"
   ]
  },
  {
   "cell_type": "code",
   "execution_count": null,
   "id": "2118a42e-6b5c-4a37-85c6-fe5ecebe4039",
   "metadata": {},
   "outputs": [],
   "source": [
    "%timeit is_sorted_index_range(timing_list)"
   ]
  },
  {
   "cell_type": "code",
   "execution_count": null,
   "id": "d1ae6e38-aa56-4c78-b6e1-c32e24f91bf2",
   "metadata": {},
   "outputs": [],
   "source": [
    "%timeit is_sorted_zip(timing_list)"
   ]
  },
  {
   "cell_type": "markdown",
   "id": "585a45ff-8e85-4ffd-9e03-e8526405682e",
   "metadata": {},
   "source": [
    "Wait, what? Our analysis lead us to think that `is_sorted_simple` would be the LEAST performant solution, but it was the fastest. By a lot. In my trials, `is_sorted_simple` was about 5 times faster than `is_sorted_zip` and about 12-13 times faster than `is_sorted_enumerate` and `is_sorted_index_range`! Yikes."
   ]
  },
  {
   "cell_type": "markdown",
   "id": "1f03254f-2839-4e70-8c99-dd3ffa66bbc1",
   "metadata": {},
   "source": [
    "So ~were we~ was I just wrong? Maybe. But maybe not.\n",
    "\n",
    "`sorted` -- the part of `is_sorted_simple` that we said would cause it to be slower, is pretty highly optimized, especially for lists that are already sorted or nearly so. (If you're curious, it uses a hybrid algorithm -- *timsort* -- that was specially created for Python but has since been used in other languages.) And what we used for our benchmarks was an already-sorted list."
   ]
  },
  {
   "cell_type": "markdown",
   "id": "5a1d900d-e650-406b-a918-cbd6eaca446d",
   "metadata": {},
   "source": [
    "What would happen if we used an un-sorted list for our benchmarks. Let's see.\n",
    "\n",
    "I'll make a copy of our 10,000 element `timing_list`, but then I'll use the `random` library to *shuffle* it. The result will be more realistic."
   ]
  },
  {
   "cell_type": "code",
   "execution_count": null,
   "id": "400e69ab-be06-4fb2-8995-19b93b038c6d",
   "metadata": {},
   "outputs": [],
   "source": [
    "import random\n",
    "\n",
    "timing_list_randomized = timing_list.copy()\n",
    "random.shuffle(timing_list_randomized)\n",
    "timing_list_randomized"
   ]
  },
  {
   "cell_type": "code",
   "execution_count": null,
   "id": "a95b0fba-b537-4213-be7d-7fa31bea8ce9",
   "metadata": {},
   "outputs": [],
   "source": [
    "%timeit is_sorted_simple(timing_list_randomized)"
   ]
  },
  {
   "cell_type": "code",
   "execution_count": null,
   "id": "e50b25ed-9f71-4eeb-9139-b996154c015c",
   "metadata": {},
   "outputs": [],
   "source": [
    "%timeit is_sorted_index_range(timing_list_randomized)"
   ]
  },
  {
   "cell_type": "code",
   "execution_count": null,
   "id": "85d75903-7721-435a-915e-b895a35d9349",
   "metadata": {},
   "outputs": [],
   "source": [
    "%timeit is_sorted_enumerate(timing_list_randomized)"
   ]
  },
  {
   "cell_type": "code",
   "execution_count": null,
   "id": "d09e230a-b538-45e9-91ae-8385bd8abe64",
   "metadata": {},
   "outputs": [],
   "source": [
    "%timeit is_sorted_zip(timing_list_randomized)"
   ]
  },
  {
   "cell_type": "markdown",
   "id": "746d0ad7-1211-4ba1-8e6d-f0c71d5814ef",
   "metadata": {},
   "source": [
    "These results tell a *very* different story. When I ran these benchmarks, `is_sorted_index_range` was blazingly fast: only 330 nanoseconds (330 *billionths* of a second). `is_sorted_enumerate` and `is_sorted_zip` were much slower, but still fast: about 33 microseconds. \n",
    "\n",
    "These results make sense: `is_sorted_index_range` can stop as soon as it finds one out-of-order element and it has almost no setup work to do. `is_sorted_enumerate` and `is_sorted_zip` also can bail early, but they have more setup work to do.\n",
    "\n",
    "And `is_sorted_simple`? In my results, at least, it took on average 1.2 milliseconds (a millisecond is 1/1000 of a second). That's about 30 times slower than `is_sorted_enumerate` and `is_sorted_zip` and a whopping 3000 times slower than `is_sorted_index_range`."
   ]
  },
  {
   "cell_type": "markdown",
   "id": "c71e4f08-642c-4c5b-aed9-a2632a62e7c2",
   "metadata": {},
   "source": [
    "If we wanted to be even more thorough, we'd try reshuffling the numbers on each execution. That way, a random ordering favorable to one approach or the other wouldn't skew the results. But I'd speculate that the results won't be dramatically different."
   ]
  },
  {
   "cell_type": "markdown",
   "id": "a1ffa9c1-252d-43e6-be8a-e0495f21323e",
   "metadata": {},
   "source": [
    "## Conclusion\n",
    "\n",
    "So which would you choose? The simplicity of `is_sorted_simple` is attractive, but looking ahead, there's going to be lots of places where we're really taxing the CPU. If we don't have to here, why should we? I'll leave it up to you."
   ]
  },
  {
   "cell_type": "markdown",
   "id": "57a9e8c1-2ceb-4742-a3ec-d91fd885dd8d",
   "metadata": {},
   "source": [
    "## On Further Consideration\n",
    "\n",
    "Wait, isn't there some way we could make the simpler, more readable solution more performant? I think so. "
   ]
  },
  {
   "cell_type": "markdown",
   "id": "47896561-e271-486a-aa97-89b5796a2eec",
   "metadata": {},
   "source": [
    "The problem with `is_sorted_simple` is that it has to resort the stack on every execution. But that isn't really necessary, is it? The goal state (the ordered stack) never changes. We could just pass in the goal state along with the pancake stack we want to test, could we?"
   ]
  },
  {
   "cell_type": "code",
   "execution_count": null,
   "id": "123d5475-abc1-47b3-b1df-d3156cb01485",
   "metadata": {},
   "outputs": [],
   "source": [
    "def is_sorted_simple_revised(pancakes, goal):\n",
    "    return pancakes == goal"
   ]
  },
  {
   "cell_type": "code",
   "execution_count": null,
   "id": "975678c2-1a6e-47e3-a087-8d83d7644464",
   "metadata": {},
   "outputs": [],
   "source": [
    "%timeit is_sorted_simple_revised(timing_list_randomized, timing_list)"
   ]
  },
  {
   "cell_type": "markdown",
   "id": "dba9ef0d-8a3f-4eb1-8cac-95f560762215",
   "metadata": {},
   "source": [
    "Much better. `is_sorted_simple_revised` is the most readable and, on my trial, also the fastest. We were doing lots of pointless work resorting the stack every time.\n",
    "\n",
    "Sometimes you just need to step back and rethink your approach."
   ]
  }
 ],
 "metadata": {
  "kernelspec": {
   "display_name": "Python 3 (ipykernel)",
   "language": "python",
   "name": "python3"
  },
  "language_info": {
   "codemirror_mode": {
    "name": "ipython",
    "version": 3
   },
   "file_extension": ".py",
   "mimetype": "text/x-python",
   "name": "python",
   "nbconvert_exporter": "python",
   "pygments_lexer": "ipython3",
   "version": "3.12.3"
  }
 },
 "nbformat": 4,
 "nbformat_minor": 5
}
